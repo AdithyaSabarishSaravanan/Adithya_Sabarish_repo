{
 "cells": [
  {
   "cell_type": "markdown",
   "metadata": {},
   "source": [
    "# Final Project\n",
    "\n",
    "## Course : Applied Deep Learning\n",
    "\n",
    "Name - Adithya Sabarish Saravanan \\\n",
    "Matriculation number- 32979 \\\n",
    "Submitted To- Prof. Schutera \\\n",
    "Submission Date - 30-June-2021 \n",
    "\n",
    "\n",
    "### Topic: Transfer Learning for multiple class classification"
   ]
  },
  {
   "cell_type": "markdown",
   "metadata": {},
   "source": [
    "# Abstract:\n",
    "\n",
    "As from slides and assignment of the lecture [TL], it is evident that Tranfer learning takes less time for training when compared to training the full network. The main reason for that was,the number of trainable parameters were less in case of transfer learning. Even the classification accuracy using tranfer learning was acceptable as well. \n",
    "\n",
    "The objective of this project is \n",
    "\n",
    "- to analyse the performance of transfer learning for classifying multiple classes.\n",
    "- using the results discuss the advantages and drawbacks of using transfer learning algorithm for multi-class classification problem. \n",
    "\n",
    "\n"
   ]
  },
  {
   "cell_type": "markdown",
   "metadata": {},
   "source": [
    "# Introduction:\n"
   ]
  },
  {
   "cell_type": "markdown",
   "metadata": {},
   "source": [
    "The insect species are facing several problems today. Appropriate measures are required to save them. To implement some kind of aid for saving the insects, especially bees, it is important to properly identify the situation and the condition of the insect. Among various insects, Bees play an important role as they help in maintaing the food chain and thus help in environment sustainability. This project explores the usage of transfer learning concept for identifying the status of a Bee and there by also talks about the pro and contras of Transfer Learning.\n",
    "\n",
    "A dataset [Bee_data], is chosen that contains various images that correspond to different states of Bees. Using this data set, the idea is to train a neural network using transfer learning and deploy it for classification. Additionally the capability of transfer learning to classify newly learnt classes is analysed. \n",
    "\n",
    "\n",
    "__Thus this project tends to answer thew question - Transfer learning is a good option with considerable accuracy and requires very less time for training. But can transfer learning also be advantageous when we train the neural network on multiple classes?__"
   ]
  },
  {
   "cell_type": "markdown",
   "metadata": {},
   "source": [
    "The project is subdivided as follows:\n",
    "- Dataset and data preprocessing for transfer learning\n",
    "- Training and validation generators\n",
    "- Setting up the base model and additional layers\n",
    "- Training \n",
    "- Test data pipeline setup and Testing\n",
    "- Results and Discussion"
   ]
  },
  {
   "cell_type": "markdown",
   "metadata": {},
   "source": [
    "# Section 1 - Dataset and data preprocessing for transfer learning"
   ]
  },
  {
   "cell_type": "markdown",
   "metadata": {},
   "source": [
    "The data set [Bee_data] consists of Bee images that talk about the current state of bees (6 classes) namely - 'ant problems','few varrao, hive beetles','healthy','hive being robbed','missing queen','Varroa, Small Hive Beetles' \n",
    "\n",
    "### Datasplit:\n",
    "\n",
    "Total number of images in the dataset = 5173\n",
    "\n",
    "Number of classes = 6\n",
    "\n",
    "Also the dataset is divided to training, validation and test data. Due to the number of available images in each of the class 10% of total images in each class is chosen as validation data and 5% of total images in each class is chosen as test data.\n",
    "\n"
   ]
  },
  {
   "cell_type": "markdown",
   "metadata": {},
   "source": [
    "### Import the data set\n"
   ]
  },
  {
   "cell_type": "code",
   "execution_count": 1,
   "metadata": {},
   "outputs": [],
   "source": [
    "from __future__ import absolute_import, division, print_function, unicode_literals\n",
    "\n",
    "import os\n",
    "\n",
    "import tensorflow as tf\n",
    "from tensorflow import keras\n",
    "\n",
    "import imageio\n",
    "import numpy as np\n",
    "import cv2\n",
    "import pandas as pd\n",
    "import matplotlib.pyplot as plt\n",
    "import matplotlib.image as mpimg\n",
    "\n",
    "\n",
    "\n",
    "\n",
    "df = pd.read_csv('/home/adisaba/Documents/Master_Mechatronics/ADL/final_proj/data/bee_data.csv', sep=',')\n"
   ]
  },
  {
   "cell_type": "markdown",
   "metadata": {},
   "source": [
    "### Seperate the data to 6 folders corresponding to 6 classes :"
   ]
  },
  {
   "cell_type": "code",
   "execution_count": 2,
   "metadata": {},
   "outputs": [],
   "source": [
    "files = df['file']\n",
    "\n",
    "for index, class_name in enumerate(df['health']):\n",
    "    file_original_path = '/home/adisaba/Documents/Master_Mechatronics/ADL/final_proj/data/bee_imgs/bee_imgs/' + (files[index])\n",
    "    img = cv2.imread(file_original_path)\n",
    "    file_new_path = '/home/adisaba/Documents/Master_Mechatronics/ADL/final_proj/data/bee_imgs/' + class_name + '/'\n",
    "    cv2.imwrite(file_new_path+ (files[index]), img)\n",
    "\n"
   ]
  },
  {
   "cell_type": "markdown",
   "metadata": {},
   "source": [
    "# Section 2 - Training and validation generators"
   ]
  },
  {
   "cell_type": "markdown",
   "metadata": {},
   "source": [
    "### Datasplit for training, testing:"
   ]
  },
  {
   "cell_type": "code",
   "execution_count": 3,
   "metadata": {},
   "outputs": [],
   "source": [
    "base_dir = '/home/adisaba/Documents/Master_Mechatronics/ADL/final_proj/data'\n",
    "train_dir = os.path.join(base_dir, 'train')\n",
    "validation_dir = os.path.join(base_dir, 'validation')\n"
   ]
  },
  {
   "cell_type": "code",
   "execution_count": 4,
   "metadata": {},
   "outputs": [
    {
     "name": "stdout",
     "output_type": "stream",
     "text": [
      "Found 4400 images belonging to 6 classes.\n",
      "Found 523 images belonging to 6 classes.\n"
     ]
    }
   ],
   "source": [
    "image_size = 200 # All images will be resized to 200x200\n",
    "batch_size = 20\n",
    "\n",
    "# Rescale all images by 1./255 and apply image augmentation\n",
    "train_datagen = keras.preprocessing.image.ImageDataGenerator(rescale=1./255)\n",
    "validation_datagen = keras.preprocessing.image.ImageDataGenerator(rescale=1./255)\n",
    "\n",
    "\n",
    "train_generator = train_datagen.flow_from_directory(\n",
    "                train_dir,  \n",
    "                target_size=(image_size, image_size),\n",
    "                batch_size=batch_size,\n",
    "                classes = ['ant problems','few varrao, hive beetles','healthy','hive being robbed','missing queen','Varroa, Small Hive Beetles']\n",
    "                )\n",
    "\n",
    "\n",
    "validation_generator = validation_datagen.flow_from_directory(\n",
    "                validation_dir, \n",
    "                target_size=(image_size, image_size),\n",
    "                batch_size=batch_size,\n",
    "                classes = ['ant problems','few varrao, hive beetles','healthy','hive being robbed','missing queen','Varroa, Small Hive Beetles']\n",
    "                \n",
    "                )"
   ]
  },
  {
   "cell_type": "markdown",
   "metadata": {},
   "source": [
    "## Sample data of 3 of the 6 classes"
   ]
  },
  {
   "attachments": {
    "004_162.png": {
     "image/png": "[encoded data removed]"
    }
   },
   "cell_type": "markdown",
   "metadata": {},
   "source": [
    "### Ant problems:\n",
    "\n",
    "![ant](030_012.png) \n",
    "\n",
    "### Healthy:\n",
    "![004_162.png](attachment:004_162.png)\n",
    "\n",
    "### Hive being robbed:\n",
    "\n",
    "![041_072.png](041_072.png)"
   ]
  },
  {
   "cell_type": "markdown",
   "metadata": {},
   "source": [
    "# Section 3 - Setting up the base model and additional layers"
   ]
  },
  {
   "cell_type": "markdown",
   "metadata": {},
   "source": [
    "__The idea of tranfer learning:__\n",
    "\n",
    "Step 1: A pretrained neural network is loaded without its top/output layer.\n",
    "\n",
    "Step 2: The network is frozen for training.\n",
    "\n",
    "Step 3: A new layer is created and is sequentially added to the frozen network.\n",
    "\n",
    "Step 4: Only the parameters in the newly added layer are trainable."
   ]
  },
  {
   "cell_type": "markdown",
   "metadata": {},
   "source": [
    "### Load the neural network and make it non-trainable (Frozen state)"
   ]
  },
  {
   "cell_type": "code",
   "execution_count": 5,
   "metadata": {},
   "outputs": [],
   "source": [
    "IMG_SHAPE = (image_size, image_size, 3)\n",
    "\n",
    "# Load the VGG -16 model\n",
    "feature_extractor = tf.keras.applications.VGG16(input_shape=IMG_SHAPE,\n",
    "                                                include_top=False,\n",
    "                                                weights='imagenet')"
   ]
  },
  {
   "cell_type": "code",
   "execution_count": 6,
   "metadata": {},
   "outputs": [
    {
     "name": "stdout",
     "output_type": "stream",
     "text": [
      "Model: \"vgg16\"\n",
      "_________________________________________________________________\n",
      "Layer (type)                 Output Shape              Param #   \n",
      "=================================================================\n",
      "input_1 (InputLayer)         [(None, 200, 200, 3)]     0         \n",
      "_________________________________________________________________\n",
      "block1_conv1 (Conv2D)        (None, 200, 200, 64)      1792      \n",
      "_________________________________________________________________\n",
      "block1_conv2 (Conv2D)        (None, 200, 200, 64)      36928     \n",
      "_________________________________________________________________\n",
      "block1_pool (MaxPooling2D)   (None, 100, 100, 64)      0         \n",
      "_________________________________________________________________\n",
      "block2_conv1 (Conv2D)        (None, 100, 100, 128)     73856     \n",
      "_________________________________________________________________\n",
      "block2_conv2 (Conv2D)        (None, 100, 100, 128)     147584    \n",
      "_________________________________________________________________\n",
      "block2_pool (MaxPooling2D)   (None, 50, 50, 128)       0         \n",
      "_________________________________________________________________\n",
      "block3_conv1 (Conv2D)        (None, 50, 50, 256)       295168    \n",
      "_________________________________________________________________\n",
      "block3_conv2 (Conv2D)        (None, 50, 50, 256)       590080    \n",
      "_________________________________________________________________\n",
      "block3_conv3 (Conv2D)        (None, 50, 50, 256)       590080    \n",
      "_________________________________________________________________\n",
      "block3_pool (MaxPooling2D)   (None, 25, 25, 256)       0         \n",
      "_________________________________________________________________\n",
      "block4_conv1 (Conv2D)        (None, 25, 25, 512)       1180160   \n",
      "_________________________________________________________________\n",
      "block4_conv2 (Conv2D)        (None, 25, 25, 512)       2359808   \n",
      "_________________________________________________________________\n",
      "block4_conv3 (Conv2D)        (None, 25, 25, 512)       2359808   \n",
      "_________________________________________________________________\n",
      "block4_pool (MaxPooling2D)   (None, 12, 12, 512)       0         \n",
      "_________________________________________________________________\n",
      "block5_conv1 (Conv2D)        (None, 12, 12, 512)       2359808   \n",
      "_________________________________________________________________\n",
      "block5_conv2 (Conv2D)        (None, 12, 12, 512)       2359808   \n",
      "_________________________________________________________________\n",
      "block5_conv3 (Conv2D)        (None, 12, 12, 512)       2359808   \n",
      "_________________________________________________________________\n",
      "block5_pool (MaxPooling2D)   (None, 6, 6, 512)         0         \n",
      "=================================================================\n",
      "Total params: 14,714,688\n",
      "Trainable params: 0\n",
      "Non-trainable params: 14,714,688\n",
      "_________________________________________________________________\n"
     ]
    }
   ],
   "source": [
    "feature_extractor.trainable = False\n",
    "\n",
    "\n",
    "feature_extractor.summary()\n"
   ]
  },
  {
   "cell_type": "markdown",
   "metadata": {},
   "source": [
    "### Adding a new layer \n",
    "\n",
    "A new layer (output layer) is added in unfrozen state."
   ]
  },
  {
   "cell_type": "code",
   "execution_count": 7,
   "metadata": {},
   "outputs": [
    {
     "name": "stdout",
     "output_type": "stream",
     "text": [
      "Model: \"sequential\"\n",
      "_________________________________________________________________\n",
      "Layer (type)                 Output Shape              Param #   \n",
      "=================================================================\n",
      "vgg16 (Functional)           (None, 6, 6, 512)         14714688  \n",
      "_________________________________________________________________\n",
      "global_average_pooling2d (Gl (None, 512)               0         \n",
      "_________________________________________________________________\n",
      "dense (Dense)                (None, 1)                 513       \n",
      "=================================================================\n",
      "Total params: 14,715,201\n",
      "Trainable params: 513\n",
      "Non-trainable params: 14,714,688\n",
      "_________________________________________________________________\n"
     ]
    }
   ],
   "source": [
    "model = tf.keras.Sequential([\n",
    "  feature_extractor,\n",
    "  keras.layers.GlobalAveragePooling2D(),\n",
    "  keras.layers.Dense(1, activation='softmax')\n",
    "])\n",
    "\n",
    "\n",
    "model.compile(optimizer=tf.keras.optimizers.RMSprop(learning_rate=0.01),\n",
    "              loss='categorical_crossentropy',\n",
    "              metrics=['accuracy'])\n",
    "\n",
    "model.summary()"
   ]
  },
  {
   "cell_type": "markdown",
   "metadata": {},
   "source": [
    "# Section 4 - Training\n",
    "\n",
    "The parameters of the newly added layer are trainable."
   ]
  },
  {
   "cell_type": "code",
   "execution_count": 8,
   "metadata": {},
   "outputs": [
    {
     "name": "stdout",
     "output_type": "stream",
     "text": [
      "Epoch 1/2\n",
      "220/220 [==============================] - 682s 3s/step - loss: 0.6681 - accuracy: 0.9164 - val_loss: 1.5772 - val_accuracy: 0.9048\n",
      "Epoch 2/2\n",
      "220/220 [==============================] - 711s 3s/step - loss: 0.4125 - accuracy: 0.9514 - val_loss: 1.8622 - val_accuracy: 0.9013\n"
     ]
    }
   ],
   "source": [
    "# Saving the model\n",
    "\n",
    "checkpoint_dir = './training_checkpoints'\n",
    "\n",
    "checkpoint_prefix = os.path.join(checkpoint_dir, \"ckpt_training_vgg16\")\n",
    "\n",
    "checkpoint_callback=tf.keras.callbacks.ModelCheckpoint(\n",
    "    filepath=checkpoint_prefix,\n",
    "    save_weights_only=True)\n",
    "\n",
    "epochs = 2\n",
    "steps_per_epoch = train_generator.n // batch_size\n",
    "validation_steps = validation_generator.n // batch_size\n",
    "\n",
    "history = model.fit(train_generator,\n",
    "                              steps_per_epoch = steps_per_epoch,\n",
    "                              epochs=epochs,\n",
    "                              validation_data=validation_generator,\n",
    "                              validation_steps=validation_steps,\n",
    "                              callbacks=[checkpoint_callback])"
   ]
  },
  {
   "cell_type": "code",
   "execution_count": 14,
   "metadata": {},
   "outputs": [
    {
     "data": {
      "image/png": "[encoded data removed]",
      "text/plain": [
       "<Figure size 864x288 with 2 Axes>"
      ]
     },
     "metadata": {
      "needs_background": "light"
     },
     "output_type": "display_data"
    }
   ],
   "source": [
    "## Trained model analysis \n",
    "f, ax = plt.subplots(1,2, figsize=(12,4))\n",
    "\n",
    "# Loss\n",
    "ax[0].plot(history.history['loss'])\n",
    "ax[0].set_title('Classification of 6 different classes of Bee: Loss')\n",
    "ax[0].set_xlabel('Epoch as percentage')\n",
    "ax[0].set_ylabel('Loss')\n",
    "\n",
    "\n",
    "\n",
    "# Accuracy\n",
    "ax[1].plot(history.history['accuracy'])\n",
    "ax[1].set_title('Classification of 6 different classes of Bee')\n",
    "ax[1].set_xlabel('Epoch as percentage')\n",
    "ax[1].set_ylabel('Accuracy')\n",
    "\n",
    "plt.show()"
   ]
  },
  {
   "cell_type": "markdown",
   "metadata": {},
   "source": [
    "# Section 5 -  Test data pipeline setup and Testing"
   ]
  },
  {
   "cell_type": "code",
   "execution_count": 10,
   "metadata": {},
   "outputs": [
    {
     "name": "stdout",
     "output_type": "stream",
     "text": [
      "Found 249 images belonging to 6 classes.\n"
     ]
    }
   ],
   "source": [
    "test_dir = os.path.join(base_dir, 'test')\n",
    "\n",
    "test_datagen = keras.preprocessing.image.ImageDataGenerator(rescale=1./255)\n",
    "\n",
    "\n",
    "test_generator = test_datagen.flow_from_directory(\n",
    "                test_dir, \n",
    "                target_size=(image_size, image_size),\n",
    "                batch_size=batch_size,\n",
    "                classes = ['ant problems','few varrao, hive beetles','healthy','hive being robbed','missing queen','Varroa, Small Hive Beetles']\n",
    "                \n",
    "                )"
   ]
  },
  {
   "cell_type": "code",
   "execution_count": 11,
   "metadata": {},
   "outputs": [
    {
     "name": "stdout",
     "output_type": "stream",
     "text": [
      "Evaluation: loss function: [2.6296255e-01 8.6192484e-09 1.2843709e-01 6.0760361e-01 9.9681143e-04\n",
      " 7.1262258e-09], accuracy: [2.3778030e-01 6.5080917e-06 7.5984305e-01 2.2335870e-03 1.2066645e-04\n",
      " 1.5885185e-05]\n"
     ]
    }
   ],
   "source": [
    "# Model Evaluation: Loss and Accuracy\n",
    "\n",
    "test_res = model.predict(validation_generator, steps=None, callbacks=None, max_queue_size=10, workers=1,\n",
    "                                    use_multiprocessing=False, verbose=0)\n",
    "print('Evaluation: loss function: %s, accuracy:' % test_res[0], test_res[1])"
   ]
  },
  {
   "cell_type": "code",
   "execution_count": 16,
   "metadata": {},
   "outputs": [
    {
     "data": {
      "text/plain": [
       "<matplotlib.collections.PathCollection at 0x7faafbf9ef70>"
      ]
     },
     "execution_count": 16,
     "metadata": {},
     "output_type": "execute_result"
    },
    {
     "data": {
      "image/png": "[encoded data removed]",
      "text/plain": [
       "<Figure size 648x360 with 1 Axes>"
      ]
     },
     "metadata": {
      "needs_background": "light"
     },
     "output_type": "display_data"
    }
   ],
   "source": [
    "\n",
    "fig=plt.figure(figsize=(9,5))\n",
    "ax=fig.add_axes([0,0,1,1])\n",
    "classes = ['ant problems','few varrao, hive beetles','healthy','hive being robbed','missing queen','Varroa, Small Hive Beetles']\n",
    "\n",
    "ax.scatter(classes, test_res[1], color='r')"
   ]
  },
  {
   "cell_type": "markdown",
   "metadata": {},
   "source": [
    "# Section 6 -  Results and Discussion:\n",
    "\n",
    "\n",
    "With transfer learning, a training accuracy of 95% and validation accuracy of 90% for the classification of 6 classes of bees has been achieved. But the test data accuracy is low. One reason might be that less number of parameters have been trained on multiple classes. For the class \"healthy\" bees, the accuracy is higher because the few available weights and other hyperparameters have been trained for this class due to high number of images in the dataset. Whereas for the remaining 5 classes, the number of images available in the dataset was less.\n"
   ]
  },
  {
   "cell_type": "markdown",
   "metadata": {},
   "source": [
    "Thus as an outcome from this project, it can be said that transfer learning works as expected with good accuracy if we train for minimum number of classes. If training is done on many classes, then it leads to overfitting (as observed in this project: high training accuracy and low test accuracy) due to minimal number tuning parameters available. "
   ]
  },
  {
   "cell_type": "markdown",
   "metadata": {},
   "source": [
    "### Conclusion\n",
    "\n",
    "\n",
    "Also if a relevant class is re-trained using transfer learning, then a even more better performance can be expected. For example: If a neural network is pre-trained on a car models of BENZ, BMW, Toyota. Such a network is chosen and using transfer learning technique it is trained on Audi cars. As old and new data are similar,  good accuracy can be expected."
   ]
  },
  {
   "cell_type": "markdown",
   "metadata": {},
   "source": [
    "# References\n",
    "\n",
    "[Bee_data] : Yang, J. (2018, September 16). The BeeImage dataset: Annotated Honey Bee Images (Version 2) [Apis mellifera with location, date, health, and more labels]. Kaggle. https://www.kaggle.com/jenny18/honey-bee-annotated-images\n",
    "\n",
    "[TL] : Schutera, M. & Hochschule Ravensburg Weingarten. (2021). Applied Deep Learning - Transfer Learning (ADL_03_LectureSlides) [Slides]. https://elearning.rwu.de/course/view.php?id=2345"
   ]
  },
  {
   "cell_type": "code",
   "execution_count": null,
   "metadata": {},
   "outputs": [],
   "source": []
  }
 ],
 "metadata": {
  "kernelspec": {
   "display_name": "tensorflow",
   "language": "python",
   "name": "tensorflow"
  },
  "language_info": {
   "codemirror_mode": {
    "name": "ipython",
    "version": 3
   },
   "file_extension": ".py",
   "mimetype": "text/x-python",
   "name": "python",
   "nbconvert_exporter": "python",
   "pygments_lexer": "ipython3",
   "version": "3.8.8"
  }
 },
 "nbformat": 4,
 "nbformat_minor": 4
}
